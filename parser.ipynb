{
 "cells": [
  {
   "cell_type": "code",
   "execution_count": null,
   "id": "1445c542-3fea-403a-ba2c-2099923b591a",
   "metadata": {
    "tags": []
   },
   "outputs": [],
   "source": [
    "import Text.ParserCombinators.Parsec hiding (spaces)\n",
    "import System.Environment"
   ]
  },
  {
   "cell_type": "code",
   "execution_count": null,
   "id": "d6d24d59-f737-49ba-abc0-2a603c5af0bb",
   "metadata": {
    "tags": []
   },
   "outputs": [],
   "source": [
    "data Expr = LitE Literal | VarE String | BinOpE BinOp Expr Expr\n",
    "\n",
    "data Literal = BoolL Bool | RL Float\n",
    "\n",
    "data BinOp = Add | Sub | Mul | Div"
   ]
  },
  {
   "cell_type": "code",
   "execution_count": null,
   "id": "2ec799e9-2172-4259-acd4-32cf9c6605d4",
   "metadata": {},
   "outputs": [],
   "source": []
  },
  {
   "cell_type": "code",
   "execution_count": null,
   "id": "c3b0f974-d566-4212-ba64-3e1902bd8f6d",
   "metadata": {},
   "outputs": [],
   "source": []
  }
 ],
 "metadata": {
  "kernelspec": {
   "display_name": "haskell-defaulf kernel",
   "language": "haskell",
   "name": "haskell-defaulf"
  },
  "language_info": {
   "codemirror_mode": "Haskell",
   "file_extension": ".hs",
   "mimetype": "text/x-haskell",
   "name": "haskell",
   "pygments_lexer": "Haskell",
   "version": "9.0.2"
  }
 },
 "nbformat": 4,
 "nbformat_minor": 5
}
